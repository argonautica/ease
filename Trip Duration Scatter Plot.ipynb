{
 "cells": [
  {
   "cell_type": "markdown",
   "id": "7ddb3036",
   "metadata": {},
   "source": [
    "# Goal: Given a taxi trip, predict the travel time!"
   ]
  },
  {
   "cell_type": "markdown",
   "id": "90f45fe5",
   "metadata": {},
   "source": [
    "Useful data analysis:\n",
    "https://www.julienphalip.com/blog/kaggle-competition-report-ecml-pkdd-2015-taxi/\n",
    "\n",
    "paper on how to develop models:\n",
    "https://arxiv.org/abs/1508.00021\n",
    "\n",
    "NYC reference:\n",
    "https://github.com/AnshRockstar/NYC-Taxi-Trip-Duration-Prediction/blob/main/NYC_Taxi_Trip_Time_Prediction_Capstone_Project.ipynb\n",
    "\n",
    "Heat map for traffic times:\n",
    "https://www.tomtom.com/traffic-index/porto-traffic/"
   ]
  },
  {
   "cell_type": "markdown",
   "id": "3a9213e3",
   "metadata": {},
   "source": [
    "### General Info\n",
    "\n",
    "TRIP_ID: (String) - An unique identifier for each trip; \\\n",
    "CALL_TYPE: (char) - Category of the ride. It may contain one of three possible values: \\\n",
    "‘A’ if this trip was dispatched from the central \\\n",
    "‘B’ if this trip was demanded directly to a taxi driver on a specific stand \\\n",
    "‘C’ otherwise (i.e. a trip demanded on a random street \\\n",
    "ORIGIN_CALL: (integer) - An unique identifier for the phone number to call the taxi. It identifies the trip’s customer \\ \n",
    "if CALL_TYPE=’A’. Otherwise, it assumes a NULL value; \\\n",
    "ORIGIN_STAND: (integer) - An unique identifier for the taxi stand. It identifies the starting point of the trip if CALL_TYPE=’B’. Otherwise, it assumes a NULL value; \\\n",
    "TAXI_ID: (integer) - An unique identifier for the taxi that performed each trip; \\\n",
    "TIMESTAMP: (integer) - Unix Timestamp (in seconds). It identifies the trip’s start; \\\n",
    "DAYTYPE: (char) - It identifies the daytype of the trip’s start. It assumes one of three possible values: \\\n",
    "‘A’ if this trip started on a normal day or weekend \\\n",
    "‘B’ if this trip started on a holiday or other special day \\\n",
    "‘C’ if the trip started on a day before a type-B day \\\n",
    "MISSING_DATA: (Boolean) - It is FALSE when the GPS data stream is complete and TRUE whenever one (or more) locations are missing \\\n",
    "POLYLINE: (String): - A list of GPS coordinates (i.e. WGS84 format) mapped as a string. The beginning and the end of the string are identified with brackets (i.e. [ and ]). Each pair of coordinates is also identified by the same brackets as [LONGITUDE, LATITUDE]. The coordinates were recorded every 15 seconds during the trip. The first item represents the starting point and the last item corresponds to the destination. \\\n",
    "The travel time of the trip (the prediction target of this project) is defined as the (number of points-1) x 15 seconds. For example, a trip with 101 data points in POLYLINE has a length of (101-1) * 15 = 1500 seconds. Some trips have missing data points in POLYLINE, indicated by MISSING_DATA column, and it is part of the challenge how you utilize this knowledge."
   ]
  },
  {
   "cell_type": "code",
   "execution_count": 1,
   "id": "73bb9e45",
   "metadata": {},
   "outputs": [],
   "source": [
    "# This Python 3 environment comes with many helpful analytics libraries installed\n",
    "# It is defined by the kaggle/python Docker image: https://github.com/kaggle/docker-python\n",
    "# For example, here's several helpful packages to load\n",
    "\n",
    "import numpy as np # linear algebra\n",
    "import pandas as pd # data processing, CSV file I/O (e.g. pd.read_csv)\n",
    "import torch\n",
    "\n",
    "#https://www.julienphalip.com/blog/kaggle-competition-report-ecml-pkdd-2015-taxi/\n",
    "import pickle\n",
    "import csv\n",
    "import calendar\n",
    "import pandas as pd\n",
    "import numpy as np\n",
    "import seaborn as sns\n",
    "import matplotlib\n",
    "import matplotlib.pyplot as plt\n",
    "# from matplotlib.ticker import  MultipleLocator, FormatStrFormatterfrom sklearn.preprocessing import LabelEncoder\n",
    "from sklearn.model_selection import train_test_split\n",
    "\n",
    "\n",
    "# Input data files are available in the read-only \"../input/\" directory\n",
    "# For example, running this (by clicking run or pressing Shift+Enter) will list all files under the input directory\n",
    "\n",
    "# import os\n",
    "# for dirname, _, filenames in os.walk('/kaggle/input'):\n",
    "#     for filename in filenames:\n",
    "#         print(os.path.join(dirname, filename))\n",
    "\n",
    "# # You can write up to 20GB to the current directory (/kaggle/working/) that gets preserved as output when you create a version using \"Save & Run All\" \n",
    "# # You can also write temporary files to /kaggle/temp/, but they won't be saved outside of the current session"
   ]
  },
  {
   "cell_type": "code",
   "execution_count": 2,
   "id": "b3757c5b",
   "metadata": {},
   "outputs": [
    {
     "data": {
      "text/html": [
       "<div>\n",
       "<style scoped>\n",
       "    .dataframe tbody tr th:only-of-type {\n",
       "        vertical-align: middle;\n",
       "    }\n",
       "\n",
       "    .dataframe tbody tr th {\n",
       "        vertical-align: top;\n",
       "    }\n",
       "\n",
       "    .dataframe thead th {\n",
       "        text-align: right;\n",
       "    }\n",
       "</style>\n",
       "<table border=\"1\" class=\"dataframe\">\n",
       "  <thead>\n",
       "    <tr style=\"text-align: right;\">\n",
       "      <th></th>\n",
       "      <th>TRIP_ID</th>\n",
       "      <th>TRIP_DUR_SEC</th>\n",
       "    </tr>\n",
       "  </thead>\n",
       "  <tbody>\n",
       "    <tr>\n",
       "      <th>0</th>\n",
       "      <td>1372636858620000589</td>\n",
       "      <td>345</td>\n",
       "    </tr>\n",
       "    <tr>\n",
       "      <th>1</th>\n",
       "      <td>1372637303620000596</td>\n",
       "      <td>285</td>\n",
       "    </tr>\n",
       "    <tr>\n",
       "      <th>2</th>\n",
       "      <td>1372636951620000320</td>\n",
       "      <td>975</td>\n",
       "    </tr>\n",
       "    <tr>\n",
       "      <th>3</th>\n",
       "      <td>1372636854620000520</td>\n",
       "      <td>645</td>\n",
       "    </tr>\n",
       "    <tr>\n",
       "      <th>4</th>\n",
       "      <td>1372637091620000337</td>\n",
       "      <td>435</td>\n",
       "    </tr>\n",
       "    <tr>\n",
       "      <th>...</th>\n",
       "      <td>...</td>\n",
       "      <td>...</td>\n",
       "    </tr>\n",
       "    <tr>\n",
       "      <th>1710655</th>\n",
       "      <td>1404171463620000698</td>\n",
       "      <td>480</td>\n",
       "    </tr>\n",
       "    <tr>\n",
       "      <th>1710656</th>\n",
       "      <td>1404171367620000670</td>\n",
       "      <td>450</td>\n",
       "    </tr>\n",
       "    <tr>\n",
       "      <th>1710657</th>\n",
       "      <td>1388745716620000264</td>\n",
       "      <td>0</td>\n",
       "    </tr>\n",
       "    <tr>\n",
       "      <th>1710658</th>\n",
       "      <td>1404141826620000248</td>\n",
       "      <td>930</td>\n",
       "    </tr>\n",
       "    <tr>\n",
       "      <th>1710659</th>\n",
       "      <td>1404157147620000079</td>\n",
       "      <td>405</td>\n",
       "    </tr>\n",
       "  </tbody>\n",
       "</table>\n",
       "<p>1710660 rows × 2 columns</p>\n",
       "</div>"
      ],
      "text/plain": [
       "                     TRIP_ID  TRIP_DUR_SEC\n",
       "0        1372636858620000589           345\n",
       "1        1372637303620000596           285\n",
       "2        1372636951620000320           975\n",
       "3        1372636854620000520           645\n",
       "4        1372637091620000337           435\n",
       "...                      ...           ...\n",
       "1710655  1404171463620000698           480\n",
       "1710656  1404171367620000670           450\n",
       "1710657  1388745716620000264             0\n",
       "1710658  1404141826620000248           930\n",
       "1710659  1404157147620000079           405\n",
       "\n",
       "[1710660 rows x 2 columns]"
      ]
     },
     "execution_count": 2,
     "metadata": {},
     "output_type": "execute_result"
    }
   ],
   "source": [
    "plot_trip_dur = pd.read_csv(\"plot_trip_dur.csv\")\n",
    "plot_trip_dur"
   ]
  },
  {
   "cell_type": "code",
   "execution_count": 4,
   "id": "eca5ed41",
   "metadata": {},
   "outputs": [
    {
     "data": {
      "image/png": "[encoded data removed]",
      "text/plain": [
       "<Figure size 432x288 with 1 Axes>"
      ]
     },
     "metadata": {
      "needs_background": "light"
     },
     "output_type": "display_data"
    }
   ],
   "source": [
    "plt.scatter(plot_trip_dur['TRIP_ID'], plot_trip_dur['TRIP_DUR_SEC'])\n",
    "plt.xlabel('TRIP_ID')\n",
    "plt.ylabel('Trip duration (sec)')\n",
    "plt.title('Distribution of Trip Duration')\n",
    "plt.show()"
   ]
  },
  {
   "cell_type": "code",
   "execution_count": null,
   "id": "7b2ad103",
   "metadata": {},
   "outputs": [],
   "source": []
  }
 ],
 "metadata": {
  "kernelspec": {
   "display_name": "Python 3 (ipykernel)",
   "language": "python",
   "name": "python3"
  },
  "language_info": {
   "codemirror_mode": {
    "name": "ipython",
    "version": 3
   },
   "file_extension": ".py",
   "mimetype": "text/x-python",
   "name": "python",
   "nbconvert_exporter": "python",
   "pygments_lexer": "ipython3",
   "version": "3.9.5"
  }
 },
 "nbformat": 4,
 "nbformat_minor": 5
}
